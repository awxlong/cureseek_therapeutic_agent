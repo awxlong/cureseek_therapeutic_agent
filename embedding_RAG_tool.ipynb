{
 "cells": [
  {
   "cell_type": "code",
   "execution_count": 1,
   "metadata": {},
   "outputs": [],
   "source": [
    "import numpy as np\n",
    "from llama_cpp import Llama\n",
    "from tooluniverse.execute_function import ToolUniverse\n",
    "from sklearn.preprocessing import normalize\n",
    "import time\n",
    "from typing import List\n",
    "import json\n",
    "import pandas as pd\n",
    "import pdb"
   ]
  },
  {
   "cell_type": "code",
   "execution_count": 2,
   "metadata": {},
   "outputs": [
    {
     "name": "stdout",
     "output_type": "stream",
     "text": [
      "Tool files:\n",
      "{'opentarget': '/Users/awxlong/anaconda3/envs/ai/lib/python3.8/site-packages/tooluniverse/data/opentarget_tools.json', 'fda_drug_label': '/Users/awxlong/anaconda3/envs/ai/lib/python3.8/site-packages/tooluniverse/data/fda_drug_labeling_tools.json', 'special_tools': '/Users/awxlong/anaconda3/envs/ai/lib/python3.8/site-packages/tooluniverse/data/special_tools.json', 'monarch': '/Users/awxlong/anaconda3/envs/ai/lib/python3.8/site-packages/tooluniverse/data/monarch_tools.json'}\n",
      "Number of tools before load tools: 0\n",
      "Number of tools after load tools: 214\n"
     ]
    }
   ],
   "source": [
    "\n",
    "engine = ToolUniverse()\n",
    "engine.load_tools()\n",
    "tool_name_list, tool_desc_list = engine.refresh_tool_name_desc()\n"
   ]
  },
  {
   "cell_type": "code",
   "execution_count": 3,
   "metadata": {},
   "outputs": [],
   "source": [
    "# ==============================================================================\n",
    "# Step 1: Create a Wrapper for the GGUF Embedding Model\n",
    "# This makes our llama-cpp model behave like a standard embedding model.\n",
    "# ==============================================================================\n",
    "\n",
    "class LlamaCppEmbeddings:\n",
    "    \"\"\"\n",
    "    A wrapper class to provide a standardized interface for creating embeddings\n",
    "    using a GGUF model loaded with llama-cpp-python.\n",
    "    \"\"\"\n",
    "    def __init__(self, repo_id, filename, **kwargs):\n",
    "        \"\"\"\n",
    "        Initializes the Llama-based embedding model.\n",
    "        \n",
    "        Args:\n",
    "            repo_id (str): The Hugging Face repository ID of the model.\n",
    "            filename (str): The GGUF filename in the repository.\n",
    "            **kwargs: Additional arguments for Llama.from_pretrained (e.g., n_gpu_layers, n_ctx).\n",
    "        \"\"\"\n",
    "        print(\"Loading GGUF embedding model...\")\n",
    "        # Set embedding=True to use the model for embeddings\n",
    "        self.llm = Llama.from_pretrained(\n",
    "            repo_id=repo_id,\n",
    "            filename=filename,\n",
    "            embedding=True, \n",
    "            verbose=False,\n",
    "            **kwargs\n",
    "        )\n",
    "        print(\"Model loaded successfully.\")\n",
    "\n",
    "    def _embed_and_average(self, text: str) -> List[float]:\n",
    "        \"\"\"\n",
    "        Internal helper method to embed a single piece of text and return a\n",
    "        single, averaged embedding vector.\n",
    "        \"\"\"\n",
    "        # Get the raw embedding result from llama.cpp\n",
    "        embedding_result = self.llm.create_embedding(text)\n",
    "\n",
    "        # The 'data' key contains a list of dictionaries, one for each chunk\n",
    "        chunk_embeddings =  embedding_result['data'][0]['embedding'] # [item['embedding'] for item in embedding_result['data'][0]['embedding']]\n",
    "        \n",
    "        # If the text was chunked, we get multiple embedding vectors.\n",
    "        # We'll average them to get a single representative vector.\n",
    "        # pdb.set_trace()\n",
    "        if len(chunk_embeddings) > 1:\n",
    "            # For debugging: let the user know that averaging is happening\n",
    "            # print(f\"    (Note: Input was split into {len(chunk_embeddings)} chunks. Averaging embeddings.)\")\n",
    "            avg_embedding = np.mean(np.array(chunk_embeddings), axis=0)\n",
    "        else:\n",
    "            avg_embedding = np.array(chunk_embeddings[0])\n",
    "            \n",
    "        return avg_embedding #.tolist()\n",
    "\n",
    "    def embed_documents(self, texts: List[str]) -> List[List[float]]:\n",
    "        \"\"\"\n",
    "        Generates a single, averaged embedding for each document in a list.\n",
    "        \"\"\"\n",
    "        print(f\"Generating embeddings for {len(texts)} documents...\")\n",
    "        # Process each text individually to handle potential chunking\n",
    "        return [self._embed_and_average(text) for text in texts]\n",
    "\n",
    "    def embed_query(self, text: str) -> List[float]:\n",
    "        \"\"\"\n",
    "        Generates a single, averaged embedding for a single query text.\n",
    "        \"\"\"\n",
    "        return self._embed_and_average(text)\n"
   ]
  },
  {
   "cell_type": "code",
   "execution_count": 4,
   "metadata": {},
   "outputs": [],
   "source": [
    "# ==============================================================================\n",
    "# Step 2: Implement the Tool Retriever using NumPy\n",
    "# This class will manage the tool index and perform the similarity search.\n",
    "# ==============================================================================\n",
    "\n",
    "class ToolRetriever:\n",
    "    \"\"\"\n",
    "    Retrieves relevant tools based on semantic similarity to a query.\n",
    "    Uses a provided embedding model and NumPy for calculations.\n",
    "    \"\"\"\n",
    "    def __init__(self, tool_names: List[str], tool_descriptions: List[str], embedding_model):\n",
    "        \"\"\"\n",
    "        Initializes the retriever and builds the tool index.\n",
    "        \n",
    "        Args:\n",
    "            tool_names (list[str]): A list of tool names.\n",
    "            tool_descriptions (list[str]): A list of corresponding tool descriptions.\n",
    "            embedding_model: An instance of a class with `embed_documents` method.\n",
    "        \"\"\"\n",
    "        if not tool_names or not tool_descriptions:\n",
    "            raise ValueError(\"Tool names and descriptions cannot be empty.\")\n",
    "            \n",
    "        self.tool_names = tool_names\n",
    "        self.tool_descriptions = tool_descriptions\n",
    "        self.embedding_model = embedding_model\n",
    "        \n",
    "        # This will store the tool data for easy lookup\n",
    "        self.tools = [\n",
    "            {\"name\": name, \"description\": desc}\n",
    "            for name, desc in zip(tool_names, tool_descriptions)\n",
    "        ]\n",
    "\n",
    "        print(\"Building tool index...\")\n",
    "        start_time = time.time()\n",
    "        # Embed all tool descriptions and store them\n",
    "        self.tool_embeddings = np.array(self.embedding_model.embed_documents(self.tool_descriptions))\n",
    "        \n",
    "        # Normalize the embeddings to unit vectors for efficient cosine similarity\n",
    "        self.tool_embeddings = normalize(self.tool_embeddings, axis=1, norm='l2')\n",
    "        \n",
    "        end_time = time.time()\n",
    "        print(f\"Tool index built successfully in {end_time - start_time:.2f} seconds.\")\n",
    "        print(f\"Indexed {len(self.tools)} tools with embedding dimension {self.tool_embeddings.shape[1]}.\")\n",
    "\n",
    "    def retrieve(self, query: str, top_k: int = 5) -> List[dict]:\n",
    "        \"\"\"\n",
    "        Retrieves the top_k most relevant tools for a given query.\n",
    "        \n",
    "        Args:\n",
    "            query (str): The user's query.\n",
    "            top_k (int): The number of tools to retrieve.\n",
    "            \n",
    "        Returns:\n",
    "            list[dict]: A list of the top_k most relevant tools, each a dict with 'name' and 'description'.\n",
    "        \"\"\"\n",
    "        print(f\"\\nRetrieving top {top_k} tools for query: '{query}'\")\n",
    "        \n",
    "        # 1. Embed the query\n",
    "        query_embedding = np.array(self.embedding_model.embed_query(query)).reshape(1, -1)\n",
    "        \n",
    "        # 2. Normalize the query embedding\n",
    "        query_embedding = normalize(query_embedding, axis=1, norm='l2')\n",
    "        \n",
    "        # 3. Calculate cosine similarity\n",
    "        # Since both vectors are normalized, dot product equals cosine similarity\n",
    "        similarities = np.dot(query_embedding, self.tool_embeddings.T)[0]\n",
    "        \n",
    "        # 4. Get the indices of the top_k most similar tools\n",
    "        # `np.argsort` returns indices of the sorted array in ascending order,\n",
    "        # so we take the last `top_k` elements and reverse them for descending order.\n",
    "        top_k_indices = np.argsort(similarities)[-top_k:][::-1]\n",
    "        \n",
    "        # 5. Get the actual tool data for the top indices\n",
    "        retrieved_tools = [self.tools[i] for i in top_k_indices]\n",
    "        \n",
    "        print(\"Retrieved tools:\")\n",
    "        for i, tool in enumerate(retrieved_tools):\n",
    "            print(f\"  {i+1}. {tool['name']} (Similarity: {similarities[top_k_indices[i]]:.4f})\")\n",
    "            \n",
    "        return retrieved_tools"
   ]
  },
  {
   "cell_type": "code",
   "execution_count": 5,
   "metadata": {},
   "outputs": [],
   "source": [
    "# ==============================================================================\n",
    "# Step 3: Implement the Prompt Formatter\n",
    "# This function creates the final string to inject into your agent's prompt.\n",
    "# ==============================================================================\n",
    "\n",
    "def format_tools_for_prompt(retrieved_tools: List[dict]) -> str:\n",
    "    \"\"\"\n",
    "    Formats a list of retrieved tools into a structured string for an LLM prompt.\n",
    "    \"\"\"\n",
    "    if not retrieved_tools:\n",
    "        return \"No tools available for this query.\"\n",
    "    \n",
    "    prompt_str = \"You have access to the following tools. Use them if necessary to answer the user's question.\\n\\n\"\n",
    "    prompt_str += \"[AVAILABLE_TOOLS]\\n\"\n",
    "    for tool in retrieved_tools:\n",
    "        # Using a JSON-like format is often effective for models\n",
    "        prompt_str += f\"- Tool: {tool['name']}\\n\"\n",
    "        prompt_str += f\"  Description: {tool['description']}\\n\"\n",
    "    prompt_str += \"[END_OF_TOOLS]\"\n",
    "    \n",
    "    return prompt_str"
   ]
  },
  {
   "cell_type": "code",
   "execution_count": 6,
   "metadata": {},
   "outputs": [
    {
     "name": "stdout",
     "output_type": "stream",
     "text": [
      "Loading GGUF embedding model...\n"
     ]
    },
    {
     "name": "stderr",
     "output_type": "stream",
     "text": [
      "llama_context: n_ctx_per_seq (512) < n_ctx_train (131072) -- the full capacity of the model will not be utilized\n",
      "ggml_metal_init: skipping kernel_get_rows_bf16                     (not supported)\n",
      "ggml_metal_init: skipping kernel_set_rows_bf16                     (not supported)\n",
      "ggml_metal_init: skipping kernel_mul_mv_bf16_f32                   (not supported)\n",
      "ggml_metal_init: skipping kernel_mul_mv_bf16_f32_c4                (not supported)\n",
      "ggml_metal_init: skipping kernel_mul_mv_bf16_f32_1row              (not supported)\n",
      "ggml_metal_init: skipping kernel_mul_mv_bf16_f32_l4                (not supported)\n",
      "ggml_metal_init: skipping kernel_mul_mv_bf16_bf16                  (not supported)\n",
      "ggml_metal_init: skipping kernel_mul_mv_id_bf16_f32                (not supported)\n",
      "ggml_metal_init: skipping kernel_mul_mm_bf16_f32                   (not supported)\n",
      "ggml_metal_init: skipping kernel_mul_mm_id_bf16_f16                (not supported)\n",
      "ggml_metal_init: skipping kernel_flash_attn_ext_bf16_h64           (not supported)\n",
      "ggml_metal_init: skipping kernel_flash_attn_ext_bf16_h80           (not supported)\n",
      "ggml_metal_init: skipping kernel_flash_attn_ext_bf16_h96           (not supported)\n",
      "ggml_metal_init: skipping kernel_flash_attn_ext_bf16_h112          (not supported)\n",
      "ggml_metal_init: skipping kernel_flash_attn_ext_bf16_h128          (not supported)\n",
      "ggml_metal_init: skipping kernel_flash_attn_ext_bf16_h192          (not supported)\n",
      "ggml_metal_init: skipping kernel_flash_attn_ext_bf16_hk192_hv128   (not supported)\n",
      "ggml_metal_init: skipping kernel_flash_attn_ext_bf16_h256          (not supported)\n",
      "ggml_metal_init: skipping kernel_flash_attn_ext_bf16_hk576_hv512   (not supported)\n",
      "ggml_metal_init: skipping kernel_flash_attn_ext_vec_bf16_h64       (not supported)\n",
      "ggml_metal_init: skipping kernel_flash_attn_ext_vec_bf16_h96       (not supported)\n",
      "ggml_metal_init: skipping kernel_flash_attn_ext_vec_bf16_h128      (not supported)\n",
      "ggml_metal_init: skipping kernel_flash_attn_ext_vec_bf16_h192      (not supported)\n",
      "ggml_metal_init: skipping kernel_flash_attn_ext_vec_bf16_hk192_hv128 (not supported)\n",
      "ggml_metal_init: skipping kernel_flash_attn_ext_vec_bf16_h256      (not supported)\n",
      "ggml_metal_init: skipping kernel_flash_attn_ext_vec_bf16_hk576_hv512 (not supported)\n",
      "ggml_metal_init: skipping kernel_cpy_f32_bf16                      (not supported)\n",
      "ggml_metal_init: skipping kernel_cpy_bf16_f32                      (not supported)\n",
      "ggml_metal_init: skipping kernel_cpy_bf16_bf16                     (not supported)\n",
      "llama_kv_cache_unified: LLAMA_SET_ROWS=0, using old ggml_cpy() method for backwards compatibility\n"
     ]
    },
    {
     "name": "stdout",
     "output_type": "stream",
     "text": [
      "Model loaded successfully.\n"
     ]
    }
   ],
   "source": [
    "embedding_model = LlamaCppEmbeddings(\n",
    "        repo_id=\"second-state/gte-Qwen2-1.5B-instruct-GGUF\",\n",
    "        filename=\"gte-Qwen2-1.5B-instruct-Q5_K_S.gguf\",\n",
    "        # n_ctx=2048 # Context window for the embedding model\n",
    "    )\n",
    "\n"
   ]
  },
  {
   "cell_type": "code",
   "execution_count": 7,
   "metadata": {},
   "outputs": [
    {
     "name": "stdout",
     "output_type": "stream",
     "text": [
      "Tool files:\n",
      "{'opentarget': '/Users/awxlong/anaconda3/envs/ai/lib/python3.8/site-packages/tooluniverse/data/opentarget_tools.json', 'fda_drug_label': '/Users/awxlong/anaconda3/envs/ai/lib/python3.8/site-packages/tooluniverse/data/fda_drug_labeling_tools.json', 'special_tools': '/Users/awxlong/anaconda3/envs/ai/lib/python3.8/site-packages/tooluniverse/data/special_tools.json', 'monarch': '/Users/awxlong/anaconda3/envs/ai/lib/python3.8/site-packages/tooluniverse/data/monarch_tools.json'}\n",
      "Number of tools before load tools: 0\n",
      "Number of tools after load tools: 214\n"
     ]
    }
   ],
   "source": [
    "# --- 2. Load Your Tools ---\n",
    "# In your real code, you would use:\n",
    "# from your_tooluniverse_module import ToolUniverse\n",
    "engine = ToolUniverse()\n",
    "engine.load_tools()\n",
    "tool_name_list, tool_desc_list = engine.refresh_tool_name_desc()\n",
    "tool_desc_list = [tool.split(': ')[1] for tool in tool_desc_list]\n"
   ]
  },
  {
   "cell_type": "code",
   "execution_count": null,
   "metadata": {},
   "outputs": [],
   "source": []
  },
  {
   "cell_type": "code",
   "execution_count": 8,
   "metadata": {},
   "outputs": [
    {
     "name": "stdout",
     "output_type": "stream",
     "text": [
      "Building tool index...\n",
      "Generating embeddings for 214 documents...\n",
      "Tool index built successfully in 40.60 seconds.\n",
      "Indexed 214 tools with embedding dimension 1536.\n"
     ]
    }
   ],
   "source": [
    "# --- 3. Create the Tool Retriever ---\n",
    "# This will automatically build the index upon initialization.\n",
    "retriever = ToolRetriever(\n",
    "    tool_names=tool_name_list,\n",
    "    tool_descriptions=tool_desc_list,\n",
    "    embedding_model=embedding_model\n",
    ")"
   ]
  },
  {
   "cell_type": "code",
   "execution_count": null,
   "metadata": {},
   "outputs": [],
   "source": []
  },
  {
   "cell_type": "code",
   "execution_count": 11,
   "metadata": {},
   "outputs": [
    {
     "name": "stdout",
     "output_type": "stream",
     "text": [
      "\n",
      "Retrieving top 3 tools for query: 'Okay, so I'm trying to figure out the best treatment for this 10-year-old with juvenile rheumatoid arthritis (JRA) who's a poor CYP2C9 metabolizer. Let me break this down step by step.\n",
      "\n",
      "First, I know that JRA is a chronic inflammatory condition, and it's often treated with non-steroidal anti-inflammatory drugs (NSAIDs) because they help reduce inflammation. But this child is a 10-year-old, so maybe the treatment isn't as intensive as adults, but still needs to be appropriate.\n",
      "\n",
      "Now, the genetic test shows poor CYP2C9 metabolism. CYP stands for Coenzyme Q10, and CYP2C9 is one of the eight enzymes in the CoA cycle. These enzymes are crucial for the body's immune response to inflammation. If a drug metabolizes CYP2C9, it can interfere with the body's ability to fight off the infection caused by JRA.\n",
      "\n",
      "I remember that drugs like Celecoxib are used for JRA. Celecoxib is a CYP2C9 dehydrogenase inhibitor, which means it prevents the body from breaking down CYP2C9. This would help reduce inflammation because the body can't effectively combat the infection anymore.\n",
      "\n",
      "Looking at the options, option A is Celecoxib 200 mg. Option B is First Aid Aspirin, which is an NSAID. Option C is Florexa, which I think is a CYP2C9 dehydrogenase inhibitor as well. Option D is none of the above.\n",
      "\n",
      "Wait, Celecoxib is a CYP2C9 inhibitor, and Florexa is also a CYP2C9 inhibitor. So both A and C are possible candidates. But Celecoxib is a medication that's specifically used for JRA. First Aid Aspirin is more for pain relief and isn't specific to JRA. Florexa is a brand name for Celecoxib, I think.\n",
      "\n",
      "So, if the child is a poor CYP2C9 metabolizer, Celecoxib would be the most appropriate because it targets the enzyme that's causing the issue. Florexa is the same drug, so it's not a separate option. Therefore, the correct answer should be Celecoxib.'\n",
      "Retrieved tools:\n",
      "  1. get_mechanism_of_action_by_drug_name (Similarity: 0.7218)\n",
      "  2. get_drug_mechanisms_of_action_by_chemblId (Similarity: 0.7124)\n",
      "  3. get_associated_drugs_by_target_ensemblID (Similarity: 0.7118)\n"
     ]
    }
   ],
   "source": [
    "# --- 4. Define a Query and Retrieve Tools ---\n",
    "# This simulates a real user query from your CUREBench context.\n",
    "user_query = \"Can a patient taking warfarin also take aspirin? I need to know the risks.\"\n",
    "user_query = \"Okay, so I'm trying to figure out why Ogivri should be discontinued permanently if a patient experiences a severe infusion reaction. I remember that Ogivri is a medication used for treating infections, maybe something like a viral infection or a fungal infection. It's important to note that it's not a life-saving drug, but it's used in specific cases.\\n\\nFirst, I think about what a severe infusion reaction means. That usually happens when the body is trying to recover from a severe infection but isn't responding properly. The body's immune system isn't working well, and maybe the infection is too strong. So, if the patient is in a critical condition, Ogivri might not be the best option.\\n\\nI also recall that Ogivri is often used in cases where there's a viral infection, like HIV, or when there's a fungal infection that's causing severe symptoms. But if the reaction is severe, the body might not be able to handle it. So, discontinuing the medication would make sense because the patient's condition is too severe to allow the drug to work properly.\\n\\nLooking at the options, option A is to decrease the rate of infusion. But if the reaction is severe, reducing the rate might not help because the infection is already too advanced. Option B is to interrupt the infusion temporarily. That could help the body recover, but if the reaction is severe, the body might not be able to recover, so interrupting it might not be enough. Option D is to administer a higher dose. That seems counterproductive because if the reaction is severe, the body might not need a higher dose to recover.\\n\\nOption C is to discontinuate Ogivri permanently. This seems like the best option because if the reaction is severe, Ogivri isn't effective anymore, and the patient's condition is too critical. Discontinuing it would prevent further complications and allow the patient to receive proper care.\\n\\nI'm a bit confused about why option B isn't the answer. Maybe if the reaction is severe, the body can't recover, so interrupting the infusion temporarily might not be enough. The body might not be able to handle the infection anymore, so continuing the infusion would be worse. So, option B might not be the right choice.\\n\\nI think the key here is that Ogivri is a treatment for severe infections, and if the reaction is severe, it's not effective. Therefore, discontinuing it is the correct action. So, the answer should be option C.\"\n",
    "user_query = \"Okay, so I'm trying to figure out the best treatment for this 10-year-old with juvenile rheumatoid arthritis (JRA) who's a poor CYP2C9 metabolizer. Let me break this down step by step.\\n\\nFirst, I know that JRA is a chronic inflammatory condition, and it's often treated with non-steroidal anti-inflammatory drugs (NSAIDs) because they help reduce inflammation. But this child is a 10-year-old, so maybe the treatment isn't as intensive as adults, but still needs to be appropriate.\\n\\nNow, the genetic test shows poor CYP2C9 metabolism. CYP stands for Coenzyme Q10, and CYP2C9 is one of the eight enzymes in the CoA cycle. These enzymes are crucial for the body's immune response to inflammation. If a drug metabolizes CYP2C9, it can interfere with the body's ability to fight off the infection caused by JRA.\\n\\nI remember that drugs like Celecoxib are used for JRA. Celecoxib is a CYP2C9 dehydrogenase inhibitor, which means it prevents the body from breaking down CYP2C9. This would help reduce inflammation because the body can't effectively combat the infection anymore.\\n\\nLooking at the options, option A is Celecoxib 200 mg. Option B is First Aid Aspirin, which is an NSAID. Option C is Florexa, which I think is a CYP2C9 dehydrogenase inhibitor as well. Option D is none of the above.\\n\\nWait, Celecoxib is a CYP2C9 inhibitor, and Florexa is also a CYP2C9 inhibitor. So both A and C are possible candidates. But Celecoxib is a medication that's specifically used for JRA. First Aid Aspirin is more for pain relief and isn't specific to JRA. Florexa is a brand name for Celecoxib, I think.\\n\\nSo, if the child is a poor CYP2C9 metabolizer, Celecoxib would be the most appropriate because it targets the enzyme that's causing the issue. Florexa is the same drug, so it's not a separate option. Therefore, the correct answer should be Celecoxib.\"\n",
    "retrieved_tools1 = retriever.retrieve(query=user_query.strip(), top_k=3)\n"
   ]
  },
  {
   "cell_type": "code",
   "execution_count": 15,
   "metadata": {},
   "outputs": [
    {
     "name": "stdout",
     "output_type": "stream",
     "text": [
      "\n",
      "Retrieving top 3 tools for query: 'A 70-year-old male with familial chylomicronemia syndrome (FCS) presents with memory issues, recurrent pancreatitis, and mild renal impairment (eGFR 60 mL/min). He has no known history of hypersensitivity reactions. What is the most suitable treatment option for this patient? \n",
      "Options: {'A': 'TRYNGOLZA (Olezarsen Sodium) without dose adjustment', 'B': 'TRYNGOLZA with dose adjustment due to renal impairment', 'C': 'A triglyceride-lowering drug contraindicated for geriatric patients', 'D': 'A drug targeting APOC-III but requiring pediatric dosing'}'\n",
      "Retrieved tools:\n",
      "  1. get_disease_therapeutic_areas_by_efoId (Similarity: 0.7154)\n",
      "  2. get_overdosage_info_by_drug_name (Similarity: 0.7128)\n",
      "  3. get_drug_names_by_overdosage_info (Similarity: 0.7039)\n"
     ]
    }
   ],
   "source": [
    "user_question = \"A 10-year-old child diagnosed with juvenile rheumatoid arthritis (JRA) requires treatment. Genetic testing reveals the child is a poor CYP2C9 metabolizer. Which drug is the most appropriate for this patient? \\nOptions: {'A': 'Celecoxib 200 mg', 'B': 'First Aid Direct Chewable Aspirin', 'C': 'Florexa', 'D': 'None of the above'}\"\n",
    "user_question = \"A 70-year-old male with familial chylomicronemia syndrome (FCS) presents with memory issues, recurrent pancreatitis, and mild renal impairment (eGFR 60 mL/min). He has no known history of hypersensitivity reactions. What is the most suitable treatment option for this patient? \\nOptions: {'A': 'TRYNGOLZA (Olezarsen Sodium) without dose adjustment', 'B': 'TRYNGOLZA with dose adjustment due to renal impairment', 'C': 'A triglyceride-lowering drug contraindicated for geriatric patients', 'D': 'A drug targeting APOC-III but requiring pediatric dosing'}\"\n",
    "retrieved_tools3 = retriever.retrieve(query=user_question.strip(), top_k=3)"
   ]
  },
  {
   "cell_type": "code",
   "execution_count": 32,
   "metadata": {},
   "outputs": [
    {
     "data": {
      "text/plain": [
       "['get_disease_therapeutic_areas_by_efoId',\n",
       " 'get_overdosage_info_by_drug_name',\n",
       " 'get_drug_names_by_overdosage_info']"
      ]
     },
     "execution_count": 32,
     "metadata": {},
     "output_type": "execute_result"
    }
   ],
   "source": [
    "retrieved_tools3\n",
    "tools = [tool['name'] for tool in retrieved_tools3]\n",
    "tools"
   ]
  },
  {
   "cell_type": "code",
   "execution_count": 34,
   "metadata": {},
   "outputs": [],
   "source": [
    "picked_tools = engine.get_tool_by_name(tools)\n",
    "picked_tools_prompt = engine.prepare_tool_prompts(picked_tools)"
   ]
  },
  {
   "cell_type": "code",
   "execution_count": 37,
   "metadata": {},
   "outputs": [
    {
     "data": {
      "text/plain": [
       "[{'name': 'get_disease_therapeutic_areas_by_efoId',\n",
       "  'description': 'Retrieve the therapeutic areas associated with a specific disease efoId.',\n",
       "  'parameter': {'type': 'object',\n",
       "   'properties': {'efoId': {'type': 'string',\n",
       "     'description': 'The EFO ID of the disease.',\n",
       "     'required': True}}}},\n",
       " {'name': 'get_overdosage_info_by_drug_name',\n",
       "  'description': 'Retrieve information about signs, symptoms, and laboratory findings of acute overdosage based on the drug name.',\n",
       "  'parameter': {'type': 'object',\n",
       "   'properties': {'drug_name': {'type': 'string',\n",
       "     'description': 'The name of the drug.',\n",
       "     'required': True},\n",
       "    'limit': {'type': 'integer',\n",
       "     'description': 'The number of records to return.',\n",
       "     'required': False},\n",
       "    'skip': {'type': 'integer',\n",
       "     'description': 'The number of records to skip.',\n",
       "     'required': False}}}},\n",
       " {'name': 'get_drug_names_by_overdosage_info',\n",
       "  'description': 'Retrieve drug names based on information about signs, symptoms, and laboratory findings of acute overdosage.',\n",
       "  'parameter': {'type': 'object',\n",
       "   'properties': {'overdosage_info': {'type': 'string',\n",
       "     'description': 'Information about signs, symptoms, and laboratory findings of acute overdosage.',\n",
       "     'required': True},\n",
       "    'limit': {'type': 'integer',\n",
       "     'description': 'The number of records to return.',\n",
       "     'required': False},\n",
       "    'skip': {'type': 'integer',\n",
       "     'description': 'The number of records to skip.',\n",
       "     'required': False}}}}]"
      ]
     },
     "execution_count": 37,
     "metadata": {},
     "output_type": "execute_result"
    }
   ],
   "source": [
    "picked_tools_prompt"
   ]
  },
  {
   "cell_type": "code",
   "execution_count": 45,
   "metadata": {},
   "outputs": [
    {
     "data": {
      "text/plain": [
       "{'name': 'get_disease_therapeutic_areas_by_efoId',\n",
       " 'description': 'Retrieve the therapeutic areas associated with a specific disease efoId.',\n",
       " 'parameter': {'type': 'object',\n",
       "  'properties': {'efoId': {'type': 'string',\n",
       "    'description': 'The EFO ID of the disease.',\n",
       "    'required': True}}}}"
      ]
     },
     "execution_count": 45,
     "metadata": {},
     "output_type": "execute_result"
    }
   ],
   "source": [
    "engine.extract_function_call_json(picked_tools_prompt[0])"
   ]
  },
  {
   "cell_type": "code",
   "execution_count": 62,
   "metadata": {},
   "outputs": [
    {
     "name": "stdout",
     "output_type": "stream",
     "text": [
      "loaded function call json {'name': 'get_disease_therapeutic_areas_by_efoId', 'arguments': {'efoId': 'EFO_0020034'}}\n"
     ]
    },
    {
     "data": {
      "text/plain": [
       "{'data': {'disease': {'id': 'EFO_0020034',\n",
       "   'name': 'familial Behcet-like autoinflammatory syndrome',\n",
       "   'therapeuticAreas': [{'id': 'EFO_0000540', 'name': 'immune system disease'},\n",
       "    {'id': 'OTAR_0000018',\n",
       "     'name': 'genetic, familial or congenital disease'}]}}}"
      ]
     },
     "execution_count": 62,
     "metadata": {},
     "output_type": "execute_result"
    }
   ],
   "source": [
    "engine.run_one_function({\n",
    "    \"name\": \"get_disease_therapeutic_areas_by_efoId\",\n",
    "    \"arguments\": {\n",
    "        \"efoId\": \"EFO_0020034\"\n",
    "    }\n",
    "})"
   ]
  }
 ],
 "metadata": {
  "kernelspec": {
   "display_name": "ai",
   "language": "python",
   "name": "python3"
  },
  "language_info": {
   "codemirror_mode": {
    "name": "ipython",
    "version": 3
   },
   "file_extension": ".py",
   "mimetype": "text/x-python",
   "name": "python",
   "nbconvert_exporter": "python",
   "pygments_lexer": "ipython3",
   "version": "3.8.18"
  }
 },
 "nbformat": 4,
 "nbformat_minor": 2
}
