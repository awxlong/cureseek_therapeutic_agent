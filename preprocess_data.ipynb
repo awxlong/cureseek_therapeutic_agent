{
 "cells": [
  {
   "cell_type": "code",
   "execution_count": 1,
   "metadata": {},
   "outputs": [],
   "source": [
    "import json"
   ]
  },
  {
   "cell_type": "code",
   "execution_count": 4,
   "metadata": {},
   "outputs": [],
   "source": [
    "with open('data/curebench_valset_pharse1.jsonl', 'r') as f:\n",
    "    val_data = [json.loads(line) for line in f]\n",
    "\n",
    "with open('data/curebench_results_validation.json', 'r') as f:\n",
    "    ann_data = json.load(f)"
   ]
  },
  {
   "cell_type": "code",
   "execution_count": 5,
   "metadata": {},
   "outputs": [
    {
     "data": {
      "text/plain": [
       "({'id': 'U9PHZ83RKYV8',\n",
       "  'question_type': 'multi_choice',\n",
       "  'question': 'Which drug brand name is associated with the treatment of acne?',\n",
       "  'correct_answer': 'A',\n",
       "  'options': {'A': 'Salicylic Acid',\n",
       "   'B': 'Minoxidil',\n",
       "   'C': 'Ketoconazole',\n",
       "   'D': 'Fluocinonide'}},\n",
       " {'id': 'U9PHZ83RKYV8',\n",
       "  'question_type': 'multi_choice',\n",
       "  'question': 'Which drug brand name is associated with the treatment of acne?',\n",
       "  'options': {'A': 'Salicylic Acid',\n",
       "   'B': 'Minoxidil',\n",
       "   'C': 'Ketoconazole',\n",
       "   'D': 'Fluocinonide'},\n",
       "  'llm_answer': \"The question asks for the drug brand name associated with the treatment of acne. Among the given options, 'Salicylic Acid' is commonly used in acne treatment products.\\n\\n[FinalAnswer] A: Salicylic Acid. Salicylic Acid is a well-known treatment for acne, often found in over-the-counter acne treatment products. It helps to exfoliate the skin and unclog pores, making it effective in managing acne symptoms. [#: 1]\",\n",
       "  'output': '{\\'id\\': \\'chatcmpl-5de9dda9-cce9-497c-9bb2-7ceb086176c0\\', \\'object\\': \\'chat.completion\\', \\'created\\': 1753237830, \\'model\\': \\'/root/.cache/huggingface/hub/models--mradermacher--TxAgent-T1-Llama-3.1-8B-GGUF/snapshots/5407e6695de48e1dc7d684fca54147c8924192df/./TxAgent-T1-Llama-3.1-8B.Q8_0.gguf\\', \\'choices\\': [{\\'index\\': 0, \\'message\\': {\\'role\\': \\'assistant\\', \\'content\\': \"The question asks for the drug brand name associated with the treatment of acne. Among the given options, \\'Salicylic Acid\\' is commonly used in acne treatment products.\\\\n\\\\n[FinalAnswer] A: Salicylic Acid. Salicylic Acid is a well-known treatment for acne, often found in over-the-counter acne treatment products. It helps to exfoliate the skin and unclog pores, making it effective in managing acne symptoms. [#: 1]\"}, \\'logprobs\\': None, \\'finish_reason\\': \\'stop\\'}], \\'usage\\': {\\'prompt_tokens\\': 82, \\'completion_tokens\\': 93, \\'total_tokens\\': 175}}'})"
      ]
     },
     "execution_count": 5,
     "metadata": {},
     "output_type": "execute_result"
    }
   ],
   "source": [
    "val_data[0], ann_data[0]"
   ]
  }
 ],
 "metadata": {
  "kernelspec": {
   "display_name": "ai",
   "language": "python",
   "name": "python3"
  },
  "language_info": {
   "codemirror_mode": {
    "name": "ipython",
    "version": 3
   },
   "file_extension": ".py",
   "mimetype": "text/x-python",
   "name": "python",
   "nbconvert_exporter": "python",
   "pygments_lexer": "ipython3",
   "version": "3.8.18"
  }
 },
 "nbformat": 4,
 "nbformat_minor": 2
}
