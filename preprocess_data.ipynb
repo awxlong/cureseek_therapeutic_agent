{
 "cells": [
  {
   "cell_type": "code",
   "execution_count": 9,
   "metadata": {},
   "outputs": [],
   "source": [
    "import json\n",
    "import re"
   ]
  },
  {
   "cell_type": "code",
   "execution_count": 2,
   "metadata": {},
   "outputs": [],
   "source": [
    "with open('data/curebench_valset_pharse1.jsonl', 'r') as f:\n",
    "    val_data = [json.loads(line) for line in f]\n",
    "\n",
    "with open('data/curebench_results_validation.json', 'r') as f:\n",
    "    ann_data = json.load(f)"
   ]
  },
  {
   "cell_type": "code",
   "execution_count": 3,
   "metadata": {},
   "outputs": [
    {
     "data": {
      "text/plain": [
       "({'id': 'U9PHZ83RKYV8',\n",
       "  'question_type': 'multi_choice',\n",
       "  'question': 'Which drug brand name is associated with the treatment of acne?',\n",
       "  'correct_answer': 'A',\n",
       "  'options': {'A': 'Salicylic Acid',\n",
       "   'B': 'Minoxidil',\n",
       "   'C': 'Ketoconazole',\n",
       "   'D': 'Fluocinonide'}},\n",
       " {'id': 'U9PHZ83RKYV8',\n",
       "  'question_type': 'multi_choice',\n",
       "  'question': 'Which drug brand name is associated with the treatment of acne?',\n",
       "  'options': {'A': 'Salicylic Acid',\n",
       "   'B': 'Minoxidil',\n",
       "   'C': 'Ketoconazole',\n",
       "   'D': 'Fluocinonide'},\n",
       "  'llm_answer': \"The question asks for the drug brand name associated with the treatment of acne. Among the given options, 'Salicylic Acid' is commonly used in acne treatment products.\\n\\n[FinalAnswer] A: Salicylic Acid. Salicylic Acid is a well-known treatment for acne, often found in over-the-counter acne treatment products. It helps to exfoliate the skin and unclog pores, making it effective in managing acne symptoms. [#: 1]\",\n",
       "  'output': '{\\'id\\': \\'chatcmpl-5de9dda9-cce9-497c-9bb2-7ceb086176c0\\', \\'object\\': \\'chat.completion\\', \\'created\\': 1753237830, \\'model\\': \\'/root/.cache/huggingface/hub/models--mradermacher--TxAgent-T1-Llama-3.1-8B-GGUF/snapshots/5407e6695de48e1dc7d684fca54147c8924192df/./TxAgent-T1-Llama-3.1-8B.Q8_0.gguf\\', \\'choices\\': [{\\'index\\': 0, \\'message\\': {\\'role\\': \\'assistant\\', \\'content\\': \"The question asks for the drug brand name associated with the treatment of acne. Among the given options, \\'Salicylic Acid\\' is commonly used in acne treatment products.\\\\n\\\\n[FinalAnswer] A: Salicylic Acid. Salicylic Acid is a well-known treatment for acne, often found in over-the-counter acne treatment products. It helps to exfoliate the skin and unclog pores, making it effective in managing acne symptoms. [#: 1]\"}, \\'logprobs\\': None, \\'finish_reason\\': \\'stop\\'}], \\'usage\\': {\\'prompt_tokens\\': 82, \\'completion_tokens\\': 93, \\'total_tokens\\': 175}}'})"
      ]
     },
     "execution_count": 3,
     "metadata": {},
     "output_type": "execute_result"
    }
   ],
   "source": [
    "val_data[0], ann_data[0]"
   ]
  },
  {
   "cell_type": "code",
   "execution_count": 27,
   "metadata": {},
   "outputs": [],
   "source": [
    "ann_data[0]['llm_answer'].split('[FinalAnswer]')[1]\n",
    "\n",
    "answer_pattern = r'\\[FinalAnswer\\]\\s*([A-Z]:\\s*[^.\\n]+)'\n",
    "remain_pattern = r'\\[FinalAnswer\\]\\s*([A-Z]:\\s*[^.\\n]+)'\n",
    "second_remain_pattern = r'\\[FinalAnswer\\]'"
   ]
  },
  {
   "cell_type": "code",
   "execution_count": 25,
   "metadata": {},
   "outputs": [
    {
     "data": {
      "text/plain": [
       "\"Patients experiencing severe allergic reactions during or after receiving fosaprepitant for injection should seek immediate medical attention. This is crucial to ensure their safety and receive appropriate treatment. Therefore, the correct option is 'B': 'Inform their healthcare provider immediately and seek emergency medical care.'.\\n\\n[FinalAnswer] B: 'Inform their healthcare provider immediately and seek emergency medical care.' Patients experiencing severe allergic reactions during or after receiving fosaprepitant for injection should inform their healthcare provider immediately and seek emergency medical care. This is essential to manage the reaction effectively and ensure their safety. [FinalAnswer]\""
      ]
     },
     "execution_count": 25,
     "metadata": {},
     "output_type": "execute_result"
    }
   ],
   "source": [
    "ann_data[1]['llm_answer']"
   ]
  },
  {
   "cell_type": "code",
   "execution_count": 31,
   "metadata": {},
   "outputs": [],
   "source": [
    "def process_text(text):\n",
    "    # Replace the first occurrence of [FinalAnswer] with 'The correct answer is'\n",
    "    text, count = re.subn(r'\\[FinalAnswer\\]', 'The correct answer is', text, count=1)\n",
    "    \n",
    "    # Remove the second (and any subsequent) [FinalAnswer] tags\n",
    "    if count == 1:\n",
    "        text = re.sub(r'\\[FinalAnswer\\]', '', text)\n",
    "    \n",
    "    # Remove all other tags enclosed in square brackets (e.g. [#: 1], [xyz])\n",
    "    text = re.sub(r'\\[[^\\]]+\\]', '', text)\n",
    "    \n",
    "    # Optional: clean up multiple spaces and whitespace\n",
    "    text = re.sub(r'\\s+', ' ', text).strip()\n",
    "    \n",
    "    return text"
   ]
  },
  {
   "cell_type": "code",
   "execution_count": 32,
   "metadata": {},
   "outputs": [
    {
     "data": {
      "text/plain": [
       "\"The question asks for a contraindication for the use of Gadavist. Among the given options, a history of severe hypersensitivity reactions to Gadavist would be the most critical contraindication, as it could lead to severe allergic reactions. The correct answer is B: 'History of severe hypersensitivity reactions to Gadavist'. This is because severe hypersensitivity reactions can be life-threatening and using Gadavist in such cases could exacerbate the condition, leading to severe allergic reactions.\""
      ]
     },
     "execution_count": 32,
     "metadata": {},
     "output_type": "execute_result"
    }
   ],
   "source": [
    "\n",
    "re.search(answer_pattern, ann_data[-1]['llm_answer']).group(1)\n",
    "re.sub(second_remain_pattern, '', re.sub(remain_pattern, '', ann_data[2]['llm_answer']))\n",
    "process_text(ann_data[2]['llm_answer'])"
   ]
  },
  {
   "cell_type": "code",
   "execution_count": 42,
   "metadata": {},
   "outputs": [
    {
     "data": {
      "text/plain": [
       "True"
      ]
     },
     "execution_count": 42,
     "metadata": {},
     "output_type": "execute_result"
    }
   ],
   "source": []
  },
  {
   "cell_type": "code",
   "execution_count": 52,
   "metadata": {},
   "outputs": [
    {
     "data": {
      "text/plain": [
       "'B'"
      ]
     },
     "execution_count": 52,
     "metadata": {},
     "output_type": "execute_result"
    }
   ],
   "source": [
    "re.search(answer_pattern, ann_data[42]['llm_answer']).group(1).strip()[0].upper()"
   ]
  },
  {
   "cell_type": "code",
   "execution_count": 54,
   "metadata": {},
   "outputs": [
    {
     "data": {
      "text/plain": [
       "'A'"
      ]
     },
     "execution_count": 54,
     "metadata": {},
     "output_type": "execute_result"
    }
   ],
   "source": [
    "val_data[0]['correct_answer'].upper() "
   ]
  },
  {
   "cell_type": "code",
   "execution_count": 46,
   "metadata": {},
   "outputs": [
    {
     "data": {
      "text/plain": [
       "False"
      ]
     },
     "execution_count": 46,
     "metadata": {},
     "output_type": "execute_result"
    }
   ],
   "source": [
    "re.search(answer_pattern, ann_data[42]['llm_answer']).group(1).strip()[0] == val_data[0]['correct_answer']"
   ]
  },
  {
   "cell_type": "code",
   "execution_count": 55,
   "metadata": {},
   "outputs": [
    {
     "data": {
      "text/plain": [
       "459"
      ]
     },
     "execution_count": 55,
     "metadata": {},
     "output_type": "execute_result"
    }
   ],
   "source": [
    "\n",
    "len(ann_data)"
   ]
  },
  {
   "cell_type": "code",
   "execution_count": 78,
   "metadata": {},
   "outputs": [],
   "source": [
    "\n",
    "# Create a dictionary for val_data keyed by 'id' for quick lookup\n",
    "val_data_by_id = {entry['id']: entry for entry in val_data}\n",
    "\n",
    "\n",
    "all_cleaned_data = []\n",
    "\n",
    "\n",
    "for ann_entry in ann_data:\n",
    "    entry_id = ann_entry['id']\n",
    "    # Find the corresponding val_data entry by id\n",
    "    val_entry = val_data_by_id.get(entry_id)\n",
    "\n",
    "    if val_entry is None:\n",
    "        # If no matching id in val_data, you can skip or handle it as needed\n",
    "        print(f\"Warning: id {entry_id} in ann_data not found in val_data\")\n",
    "        continue\n",
    "\n",
    "    # Extract simplified_answer safely\n",
    "    simplified_answer = \"No answer\"\n",
    "    match = re.search(answer_pattern, ann_entry['llm_answer'])\n",
    "    if match:\n",
    "        simplified_answer = match.group(1).strip()\n",
    "\n",
    "    cleaned_data = {\n",
    "        \"id\": entry_id,\n",
    "        \"question_type\": val_entry.get('question_type', ''),\n",
    "        \"question\": val_entry.get('question', ''),\n",
    "        \"full_answer\": ann_entry.get('llm_answer', ''),\n",
    "        \"simplified_answer\": simplified_answer,\n",
    "        \"reasoning\": process_text(ann_entry.get('llm_answer', '')).strip(),\n",
    "        \"correct_or_not\": simplified_answer[0].upper() == val_entry.get('correct_answer', '').upper() if simplified_answer != \"No answer\" else False,\n",
    "    }\n",
    "\n",
    "    all_cleaned_data.append(cleaned_data)\n",
    "\n",
    "with open('data/curebench_validation_preprocessed.json', 'w') as f:\n",
    "    json.dump(all_cleaned_data, f, indent=4)"
   ]
  },
  {
   "cell_type": "code",
   "execution_count": 63,
   "metadata": {},
   "outputs": [
    {
     "data": {
      "text/plain": [
       "'No answer'"
      ]
     },
     "execution_count": 63,
     "metadata": {},
     "output_type": "execute_result"
    }
   ],
   "source": []
  },
  {
   "cell_type": "code",
   "execution_count": 79,
   "metadata": {},
   "outputs": [
    {
     "name": "stdout",
     "output_type": "stream",
     "text": [
      "# correct answer, # incorrect answers\n"
     ]
    },
    {
     "data": {
      "text/plain": [
       "(335, 124)"
      ]
     },
     "execution_count": 79,
     "metadata": {},
     "output_type": "execute_result"
    }
   ],
   "source": [
    "print(\"# correct answer, # incorrect answers\")\n",
    "len([x['id'] for x in all_cleaned_data if x['correct_or_not'] == True]), len([x for x in all_cleaned_data if x['correct_or_not'] == False])\n",
    "\n",
    "correct_answered_ids = [x['id'] for x in all_cleaned_data if x['correct_or_not'] == True]\n",
    "\n",
    "incorrect_answered_ids = [x['id'] for x in all_cleaned_data if x['correct_or_not'] == False]\n",
    "\n",
    "len(correct_answered_ids), len(incorrect_answered_ids)\n"
   ]
  },
  {
   "cell_type": "code",
   "execution_count": 80,
   "metadata": {},
   "outputs": [
    {
     "name": "stdout",
     "output_type": "stream",
     "text": [
      "# unanswered: \n"
     ]
    },
    {
     "data": {
      "text/plain": [
       "43"
      ]
     },
     "execution_count": 80,
     "metadata": {},
     "output_type": "execute_result"
    }
   ],
   "source": [
    "print('# unanswered: ')\n",
    "len([x['id'] for x in all_cleaned_data if x['simplified_answer'] == \"No answer\"])\n",
    "unanswered_ids = [x['id'] for x in all_cleaned_data if x['simplified_answer'] == \"No answer\"]\n",
    "len(unanswered_ids)"
   ]
  },
  {
   "cell_type": "markdown",
   "metadata": {},
   "source": []
  },
  {
   "cell_type": "code",
   "execution_count": 82,
   "metadata": {},
   "outputs": [
    {
     "name": "stdout",
     "output_type": "stream",
     "text": [
      "All unanswered questions are incorrect\n"
     ]
    },
    {
     "data": {
      "text/plain": [
       "['Eic83tab2ldk',\n",
       " '0NpConxVPMFN',\n",
       " '7YXi98NhIrhP',\n",
       " '1hPNUhXOcSyQ',\n",
       " 'RqM53KI1SHyE']"
      ]
     },
     "execution_count": 82,
     "metadata": {},
     "output_type": "execute_result"
    }
   ],
   "source": [
    "print('All unanswered questions are incorrect')\n",
    "unanswered_questions = [x for x in incorrect_answered_ids if x in unanswered_ids]\n",
    "len(unanswered_questions)\n",
    "unanswered_questions[0:5]"
   ]
  },
  {
   "cell_type": "markdown",
   "metadata": {},
   "source": [
    "# generate clean finetuning dataset"
   ]
  },
  {
   "cell_type": "code",
   "execution_count": 83,
   "metadata": {},
   "outputs": [],
   "source": [
    "\n",
    "with open('data/curebench_validation_preprocessed.json', 'r') as f:\n",
    "    preprocessed_val_data = json.load(f)\n",
    "\n",
    "\n"
   ]
  },
  {
   "cell_type": "code",
   "execution_count": 84,
   "metadata": {},
   "outputs": [
    {
     "data": {
      "text/plain": [
       "{'id': 'U9PHZ83RKYV8',\n",
       " 'question_type': 'multi_choice',\n",
       " 'question': 'Which drug brand name is associated with the treatment of acne?',\n",
       " 'full_answer': \"The question asks for the drug brand name associated with the treatment of acne. Among the given options, 'Salicylic Acid' is commonly used in acne treatment products.\\n\\n[FinalAnswer] A: Salicylic Acid. Salicylic Acid is a well-known treatment for acne, often found in over-the-counter acne treatment products. It helps to exfoliate the skin and unclog pores, making it effective in managing acne symptoms. [#: 1]\",\n",
       " 'simplified_answer': 'A: Salicylic Acid',\n",
       " 'reasoning': \"The question asks for the drug brand name associated with the treatment of acne. Among the given options, 'Salicylic Acid' is commonly used in acne treatment products. The correct answer is A: Salicylic Acid. Salicylic Acid is a well-known treatment for acne, often found in over-the-counter acne treatment products. It helps to exfoliate the skin and unclog pores, making it effective in managing acne symptoms.\",\n",
       " 'correct_or_not': True}"
      ]
     },
     "execution_count": 84,
     "metadata": {},
     "output_type": "execute_result"
    }
   ],
   "source": [
    "preprocessed_val_data[0]"
   ]
  },
  {
   "cell_type": "markdown",
   "metadata": {},
   "source": [
    "# correcting the wrong answers"
   ]
  },
  {
   "cell_type": "code",
   "execution_count": null,
   "metadata": {},
   "outputs": [],
   "source": []
  }
 ],
 "metadata": {
  "kernelspec": {
   "display_name": "ai",
   "language": "python",
   "name": "python3"
  },
  "language_info": {
   "codemirror_mode": {
    "name": "ipython",
    "version": 3
   },
   "file_extension": ".py",
   "mimetype": "text/x-python",
   "name": "python",
   "nbconvert_exporter": "python",
   "pygments_lexer": "ipython3",
   "version": "3.8.18"
  }
 },
 "nbformat": 4,
 "nbformat_minor": 2
}
